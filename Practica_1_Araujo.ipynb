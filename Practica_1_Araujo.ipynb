{
  "nbformat": 4,
  "nbformat_minor": 0,
  "metadata": {
    "colab": {
      "provenance": []
    },
    "kernelspec": {
      "name": "python3",
      "display_name": "Python 3"
    },
    "language_info": {
      "name": "python"
    }
  },
  "cells": [
    {
      "cell_type": "markdown",
      "source": [
        "Araujo Ximena"
      ],
      "metadata": {
        "id": "y_9W-RaDzh-B"
      }
    },
    {
      "cell_type": "code",
      "execution_count": 1,
      "metadata": {
        "colab": {
          "base_uri": "https://localhost:8080/"
        },
        "id": "CNIU5kYvw0oS",
        "outputId": "6afc79be-2e69-495e-8141-9ff8786eeeed"
      },
      "outputs": [
        {
          "output_type": "stream",
          "name": "stdout",
          "text": [
            "Elementos en A: {1, 2, 3, 4}\n",
            "Elementos en B: {3, 4, 5, 6}\n",
            "Elementos de A y B: {1, 2, 3, 4, 5, 6}\n"
          ]
        }
      ],
      "source": [
        "#Elementos en A o en B, o en ambos\n",
        "A={1, 2, 3, 4}\n",
        "B={3, 4, 5, 6}\n",
        "union=A|B\n",
        "\n",
        "print(f\"Elementos en A: {A}\")\n",
        "print(f\"Elementos en B: {B}\")\n",
        "print(f\"Elementos de A y B: {union}\")"
      ]
    },
    {
      "cell_type": "code",
      "source": [
        "#Elementos en A y en B\n",
        "A={1, 2, 3, 4}\n",
        "B={3, 4, 5, 6}\n",
        "interseccion= A & B\n",
        "\n",
        "print(f\"Elementos de A y B: {interseccion}\")"
      ],
      "metadata": {
        "colab": {
          "base_uri": "https://localhost:8080/"
        },
        "id": "nslfJC0gxren",
        "outputId": "1a76f018-4c9b-4193-d444-d92da9787a74"
      },
      "execution_count": 2,
      "outputs": [
        {
          "output_type": "stream",
          "name": "stdout",
          "text": [
            "Elementos de A y B: {3, 4}\n"
          ]
        }
      ]
    },
    {
      "cell_type": "code",
      "source": [
        "#Elementos en A o en B, pero no en ambos\n",
        "A={1, 2, 3, 4}\n",
        "B={3, 4, 5, 6}\n",
        "diferencia= A ^ B\n",
        "\n",
        "print(f\"Elementos que hay en A o en B: {diferencia}\")"
      ],
      "metadata": {
        "colab": {
          "base_uri": "https://localhost:8080/"
        },
        "id": "34W8wLAFyJea",
        "outputId": "7f7a4b44-14ab-42e8-96db-e053a1d79bd7"
      },
      "execution_count": 3,
      "outputs": [
        {
          "output_type": "stream",
          "name": "stdout",
          "text": [
            "Elementos que hay en A o en B: {1, 2, 5, 6}\n"
          ]
        }
      ]
    },
    {
      "cell_type": "code",
      "source": [
        "#Ver si A es un subconjunto de B\n",
        "A={1, 2}\n",
        "B={1, 2, 3, 4}\n",
        "subconjunto= A.issubset(B)\n",
        "\n",
        "print(f\"¿A es un subconjunto de B? {subconjunto}\")"
      ],
      "metadata": {
        "colab": {
          "base_uri": "https://localhost:8080/"
        },
        "id": "HUAu8ZoAyQFO",
        "outputId": "5e320105-8155-4c7b-9ee1-04254455507b"
      },
      "execution_count": 5,
      "outputs": [
        {
          "output_type": "stream",
          "name": "stdout",
          "text": [
            "¿Es un subconjunto? True\n"
          ]
        }
      ]
    },
    {
      "cell_type": "code",
      "source": [
        "#Número de elementos en un conjunto\n",
        "A={1, 2, 3, 4}\n",
        "cantidad= len(A)\n",
        "\n",
        "print(f\"Número de elementos en A: {cantidad}\")"
      ],
      "metadata": {
        "colab": {
          "base_uri": "https://localhost:8080/"
        },
        "id": "EAFwiAAXyRzs",
        "outputId": "f5db43c1-2512-4f55-b781-f571652e5d33"
      },
      "execution_count": 6,
      "outputs": [
        {
          "output_type": "stream",
          "name": "stdout",
          "text": [
            "Número de elementos en A: 4\n"
          ]
        }
      ]
    }
  ]
}