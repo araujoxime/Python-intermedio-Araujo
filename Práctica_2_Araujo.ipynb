{
  "nbformat": 4,
  "nbformat_minor": 0,
  "metadata": {
    "colab": {
      "provenance": []
    },
    "kernelspec": {
      "name": "python3",
      "display_name": "Python 3"
    },
    "language_info": {
      "name": "python"
    }
  },
  "cells": [
    {
      "cell_type": "markdown",
      "source": [
        "Araujo Ximena"
      ],
      "metadata": {
        "id": "ZzFA0KmApQvy"
      }
    },
    {
      "cell_type": "markdown",
      "source": [
        "Escribe un programa que intente dividir dos números. Si el segundo número es cero,\n",
        "captura la excepción ZeroDivisionError y muestra un mensaje de error al usuario."
      ],
      "metadata": {
        "id": "gPTeEGIPpgze"
      }
    },
    {
      "cell_type": "code",
      "execution_count": 10,
      "metadata": {
        "colab": {
          "base_uri": "https://localhost:8080/"
        },
        "id": "5ICuwM89pKSb",
        "outputId": "4bdc4d55-9160-4b07-968f-9b5bf8b34126"
      },
      "outputs": [
        {
          "output_type": "stream",
          "name": "stdout",
          "text": [
            "Ingrese el dividendo: 10\n",
            "Ingrese el divisor: 0\n",
            "No se puede dividir por cero\n"
          ]
        }
      ],
      "source": [
        "def division (a, b):\n",
        "  try:\n",
        "    resultado=a/b\n",
        "    print(f\"El resultado es: {resultado}\")\n",
        "  except ZeroDivisionError:\n",
        "    print(\"No se puede dividir por cero\")\n",
        "\n",
        "a=int(input(\"Ingrese el dividendo: \"))\n",
        "b=int(input(\"Ingrese el divisor: \"))\n",
        "division(a,b)"
      ]
    },
    {
      "cell_type": "markdown",
      "source": [
        "Escribe un programa que intente sumar un número y una cadena. Si se produce un error\n",
        "de tipo, captura la excepción TypeError y muestra un mensaje de error al usuario.\n"
      ],
      "metadata": {
        "id": "g9QmzC6hpjx-"
      }
    },
    {
      "cell_type": "code",
      "source": [
        "def suma ():\n",
        "  try:\n",
        "    a=int(input(\"Ingrese un número\"))\n",
        "    b=input(\"Ingrese una cadena\")\n",
        "    resultado=a+b\n",
        "    print(f\"El resultado es: {resultado}\")\n",
        "  except TypeError:\n",
        "    print(f\"Ha ocurrido un error.\")\n",
        "\n",
        "suma()"
      ],
      "metadata": {
        "colab": {
          "base_uri": "https://localhost:8080/"
        },
        "id": "yv0nJ0ygpmFt",
        "outputId": "8a762fa0-3c82-4f10-f4cd-acdec81134e9"
      },
      "execution_count": 18,
      "outputs": [
        {
          "output_type": "stream",
          "name": "stdout",
          "text": [
            "Ingrese un número10\n",
            "Ingrese una cadenag\n",
            "Ha ocurrido un error.\n"
          ]
        }
      ]
    },
    {
      "cell_type": "markdown",
      "source": [
        "Escribe un programa que intente acceder a una clave que no existe en un\n",
        "diccionario. Si se produce una excepción KeyError, captura la excepción y muestra"
      ],
      "metadata": {
        "id": "EKyv2K51pmZh"
      }
    },
    {
      "cell_type": "code",
      "source": [
        "diccionario={\"Nombre\": \"Ximena\", \"Apellido\": \"Araujo\"}\n",
        "try:\n",
        "  print(diccionario[\"Edad\"])\n",
        "except KeyError:\n",
        "  print(\"La clave no existe\")"
      ],
      "metadata": {
        "colab": {
          "base_uri": "https://localhost:8080/"
        },
        "id": "vFZpISmfpowa",
        "outputId": "53a25b88-7fd9-4cb2-b582-6c2572692445"
      },
      "execution_count": 19,
      "outputs": [
        {
          "output_type": "stream",
          "name": "stdout",
          "text": [
            "La clave no existe\n"
          ]
        }
      ]
    },
    {
      "cell_type": "markdown",
      "source": [
        "Escribe un programa que intente abrir un archivo que no existe. Si se produce una excepción FileNotFoundError, captura la excepcion y muestra un mensaje de error al usuario. Sin embargo, también intenta crear el archivo si no existe.\n"
      ],
      "metadata": {
        "id": "e9pQpTO3pt9a"
      }
    },
    {
      "cell_type": "code",
      "source": [
        "try:\n",
        "  with open(\"archivo.txt\", \"r\") as archivo:   #\"r\" permite leer\n",
        "    contenido=archivo.read()\n",
        "    print(contenido)\n",
        "except FileNotFoundError:\n",
        "    print(\"El archivo no existe\")\n",
        "    with open(\"archivo.txt\", \"w\") as archivo:    #\"w\" permite escribir\n",
        "      archivo.write(\"Hola\")\n",
        "      print(\"El archivo ha sido creado\")"
      ],
      "metadata": {
        "colab": {
          "base_uri": "https://localhost:8080/"
        },
        "id": "qGW-4k5ppwLU",
        "outputId": "c434100a-880a-4136-a19b-a1fe6826bd28"
      },
      "execution_count": 25,
      "outputs": [
        {
          "output_type": "stream",
          "name": "stdout",
          "text": [
            "El archivo no existe\n",
            "El archivo ha sido creado\n"
          ]
        }
      ]
    },
    {
      "cell_type": "markdown",
      "source": [
        "Escribe un programa que intente dividir dos números. Si el segundo número es cero,\n",
        "captura la excepción ZeroDivisionError. Si el primer número es un número no válido,\n",
        "captura la excepción ValueError. En cualquier caso, muestra un mensaje de error al usuario."
      ],
      "metadata": {
        "id": "k1Othcj-pwda"
      }
    },
    {
      "cell_type": "code",
      "source": [
        "def division ():\n",
        "  try:\n",
        "    a=int(input(\"Ingrese el dividendo: \"))\n",
        "    b=int(input(\"Ingrese el divisor: \"))\n",
        "    resultado=a/b\n",
        "    print(f\"El resultado es: {resultado}\")\n",
        "  except ZeroDivisionError:\n",
        "    print(\"No se puede dividir por cero\")\n",
        "  except ValueError:\n",
        "    print(\"Error. Ingresar un número.\")\n",
        "\n",
        "division()"
      ],
      "metadata": {
        "colab": {
          "base_uri": "https://localhost:8080/"
        },
        "id": "Rd5_ZFgfpy_t",
        "outputId": "2f9b9b0e-c012-44a6-bcb1-186faec35728"
      },
      "execution_count": 28,
      "outputs": [
        {
          "output_type": "stream",
          "name": "stdout",
          "text": [
            "Ingrese el dividendo: 10\n",
            "Ingrese el divisor: 0\n",
            "No se puede dividir por cero\n"
          ]
        }
      ]
    }
  ]
}