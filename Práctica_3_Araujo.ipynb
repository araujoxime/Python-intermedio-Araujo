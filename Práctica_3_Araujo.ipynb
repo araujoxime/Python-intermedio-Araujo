{
  "nbformat": 4,
  "nbformat_minor": 0,
  "metadata": {
    "colab": {
      "provenance": []
    },
    "kernelspec": {
      "name": "python3",
      "display_name": "Python 3"
    },
    "language_info": {
      "name": "python"
    }
  },
  "cells": [
    {
      "cell_type": "markdown",
      "source": [
        "Araujo Ximena"
      ],
      "metadata": {
        "id": "362zsJyLwTDK"
      }
    },
    {
      "cell_type": "markdown",
      "source": [
        "Calcular el mayor de dos números ingresados por teclado usando un operador ternario."
      ],
      "metadata": {
        "id": "TOCgrhU7wWcr"
      }
    },
    {
      "cell_type": "code",
      "execution_count": 3,
      "metadata": {
        "colab": {
          "base_uri": "https://localhost:8080/"
        },
        "id": "ubI7tBWmwHpJ",
        "outputId": "6371d07d-d9ee-4f46-fee6-672ecc1fe98c"
      },
      "outputs": [
        {
          "output_type": "stream",
          "name": "stdout",
          "text": [
            "Ingrese un número: 65\n",
            "Ingrese otro número: 40\n",
            "El mayor número es: 65\n"
          ]
        }
      ],
      "source": [
        "numero_uno= int(input(\"Ingrese un número: \"))\n",
        "numero_dos= int(input(\"Ingrese otro número: \"))\n",
        "print(f\"El mayor número es: {numero_uno if numero_uno > numero_dos else numero_dos}\")"
      ]
    },
    {
      "cell_type": "markdown",
      "source": [
        "Buscar una palabra en una lista ingresada por teclado usando args y un operador ternario\n"
      ],
      "metadata": {
        "id": "oYTtpTfbxt06"
      }
    },
    {
      "cell_type": "code",
      "source": [
        "lista= input(\"Ingrese varias palabras separadas por espacio: \").split() #Armamos la lista\n",
        "palabra=input(\"Ingrese la palabra que desea buscar: \")\n",
        "\n",
        "def buscador (palabra, *args):\n",
        "  print(f\"La palabra {palabra} está en la lista\" if palabra in args else f\"La palabra {palabra} no está en la lista\")\n",
        "\n",
        "buscador(palabra, *lista)"
      ],
      "metadata": {
        "colab": {
          "base_uri": "https://localhost:8080/"
        },
        "id": "O6b2Wqy8xn7X",
        "outputId": "2b2383fa-47b0-4bca-9245-4a222298bacd"
      },
      "execution_count": 6,
      "outputs": [
        {
          "output_type": "stream",
          "name": "stdout",
          "text": [
            "Ingrese varias palabras separadas por espacio: hola casa media junio\n",
            "Ingrese la palabra que desea buscar: rosa\n",
            "La palabra rosa no está en la lista\n"
          ]
        }
      ]
    },
    {
      "cell_type": "markdown",
      "source": [
        "Determinar si un número es par o impar"
      ],
      "metadata": {
        "id": "7F3EDLzO2NhQ"
      }
    },
    {
      "cell_type": "code",
      "source": [
        "numero=int(input(\"Ingrese un número: \"))\n",
        "print(f\"El número {numero} es {'par' if numero%2==0 else 'impar'}\")"
      ],
      "metadata": {
        "colab": {
          "base_uri": "https://localhost:8080/"
        },
        "id": "hb5hm0O32PJ7",
        "outputId": "cf05713f-0229-46ab-9c3a-a64745e25977"
      },
      "execution_count": 9,
      "outputs": [
        {
          "output_type": "stream",
          "name": "stdout",
          "text": [
            "Ingrese un número: 91\n",
            "El número 91 es impar\n"
          ]
        }
      ]
    },
    {
      "cell_type": "markdown",
      "source": [
        "Calcular el promedio de una lista de números usando args y un operador ternario\n"
      ],
      "metadata": {
        "id": "z9TsACz62mWn"
      }
    },
    {
      "cell_type": "code",
      "source": [
        "lista= input(\"Ingrese una lista de números separadas por espacio: \").split()\n",
        "#Eliminar espacios vacios\n",
        "lista=[int(n) for n in lista if n.strip() != \"\"]\n",
        "\n",
        "def promedio (*args):\n",
        "  print(f\"El promedio de la lista es: {sum(args)/len(args) if len(args)>0 else 'Ingrese los números'}\")\n",
        "\n",
        "promedio(*lista)"
      ],
      "metadata": {
        "colab": {
          "base_uri": "https://localhost:8080/"
        },
        "id": "Z1BiIC583Qaf",
        "outputId": "c78a0bb3-da48-4044-8a5e-d2e16af1824f"
      },
      "execution_count": 16,
      "outputs": [
        {
          "output_type": "stream",
          "name": "stdout",
          "text": [
            "Ingrese una lista de números separadas por espacio: 5 4 34 6 7 \n",
            "El promedio de la lista es: 11.2\n"
          ]
        }
      ]
    },
    {
      "cell_type": "markdown",
      "source": [
        "Imprimir un mensaje de error si no se\n",
        "pasan suficientes argumentos"
      ],
      "metadata": {
        "id": "dsFVas7X6Ih_"
      }
    },
    {
      "cell_type": "code",
      "source": [
        "lista= input(\"Ingrese una lista de números separadas por espacio: \").split()\n",
        "#Eliminar espacios vacios\n",
        "lista=[int(n) for n in lista if n.strip() != \"\"]\n",
        "\n",
        "def promedio (*args):\n",
        "  mensaje= f\"El promedio de la lista es: {sum(args)/len(args)}\" if len(args)>=2 else 'Error: Se necesitan al menos dos números'\n",
        "  print(mensaje)\n",
        "promedio(*lista)"
      ],
      "metadata": {
        "colab": {
          "base_uri": "https://localhost:8080/"
        },
        "id": "s50H5eOZ6KeI",
        "outputId": "34516d65-b54d-48dc-df7b-d1e24bcb2e7f"
      },
      "execution_count": 20,
      "outputs": [
        {
          "output_type": "stream",
          "name": "stdout",
          "text": [
            "Ingrese una lista de números separadas por espacio: 1\n",
            "Error: Se necesitan al menos dos números\n"
          ]
        }
      ]
    }
  ]
}